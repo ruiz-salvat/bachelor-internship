{
 "cells": [
  {
   "cell_type": "code",
   "execution_count": 1,
   "metadata": {},
   "outputs": [],
   "source": [
    "import datetime\n",
    "import pandas as pd\n",
    "import numpy as np\n",
    "import matplotlib.pyplot as plt\n",
    "import operator\n",
    "from sklearn.linear_model import LinearRegression\n",
    "from statsmodels.tsa.seasonal import seasonal_decompose\n",
    "from pandas.plotting import register_matplotlib_converters\n",
    "from pyhive import hive\n",
    "from sklearn.metrics import mean_squared_error, r2_score\n",
    "from sklearn.preprocessing import PolynomialFeatures\n",
    "from sklearn.model_selection import train_test_split \n",
    "from scipy.interpolate import interp1d\n",
    "from datetime import time\n",
    "from matplotlib.pyplot import figure"
   ]
  },
  {
   "cell_type": "code",
   "execution_count": 2,
   "metadata": {},
   "outputs": [],
   "source": [
    "#database connection\n",
    "conn = hive.Connection(host=\"192.168.1.241\", port=10000, username=\"hive\")"
   ]
  },
  {
   "cell_type": "code",
   "execution_count": 3,
   "metadata": {},
   "outputs": [],
   "source": [
    "#use command\n",
    "cursor = conn.cursor()\n",
    "cursor.execute(\"use RoadNetwork\")"
   ]
  },
  {
   "cell_type": "code",
   "execution_count": 4,
   "metadata": {},
   "outputs": [],
   "source": [
    "#defining constant variables\n",
    "fTag = \"measurementpoint.flowvalue\"\n",
    "sTag = \"measurementpoint.speedvalue\"\n",
    "dTag = \"measurementpoint.measurementdatetime\"\n",
    "niTag = \"measurementpoint.ninputs\"\n",
    "sdTag = \"measurementpoint.sdeviation\"\n",
    "kTag = \"density\""
   ]
  },
  {
   "cell_type": "code",
   "execution_count": 5,
   "metadata": {},
   "outputs": [],
   "source": [
    "#situational variables limiting the data set to be read from the database\n",
    "reference = \"RWS01_MONIBAS_0271hrr0779ra\" \n",
    "datesList = [(\"2019-01-27 00:00:00.0\", \"2019-02-03 00:00:00.0\")]"
   ]
  },
  {
   "cell_type": "code",
   "execution_count": null,
   "metadata": {},
   "outputs": [],
   "source": [
    "sql = \"SELECT * FROM MeasurementPoint WHERE\"\n",
    "for i in datesList:\n",
    "    startDate = i[0]\n",
    "    endDate = i[1]\n",
    "    sql = sql + \" reference = '\" + reference + \"' AND measurementdatetime > '\" + startDate + \"' AND measurementdatetime < '\" + endDate + \"' OR\"\n",
    "sql = sql[:-3]\n",
    "sql = sql + \" order by measurementdatetime\"\n",
    "measurementPoint = pd.read_sql(sql, conn)"
   ]
  },
  {
   "cell_type": "code",
   "execution_count": null,
   "metadata": {},
   "outputs": [],
   "source": [
    "#check if the dataset was extracted succesfully\n",
    "measurementPoint.head() "
   ]
  },
  {
   "cell_type": "code",
   "execution_count": null,
   "metadata": {},
   "outputs": [],
   "source": [
    "measurementPoint.shape[0]"
   ]
  },
  {
   "cell_type": "code",
   "execution_count": null,
   "metadata": {},
   "outputs": [],
   "source": [
    "dayCount = 0\n",
    "dates = []\n",
    "\n",
    "for index, row in measurementPoint.iterrows():\n",
    "    if (row[dTag].date() not in dates):\n",
    "        dates.append(row[dTag].date())\n"
   ]
  },
  {
   "cell_type": "code",
   "execution_count": null,
   "metadata": {},
   "outputs": [],
   "source": [
    "timeSeriesFreq = int(measurementPoint.shape[0] / len(dates))\n",
    "timeSeriesFreq"
   ]
  },
  {
   "cell_type": "code",
   "execution_count": null,
   "metadata": {},
   "outputs": [],
   "source": [
    "#selecting sub-datasets\n",
    "flowSeries = pd.concat([measurementPoint[fTag]], axis = 1, sort = False)\n",
    "speedSeries = pd.concat([measurementPoint[sTag], measurementPoint[niTag], measurementPoint[sdTag]], axis = 1, sort = False)"
   ]
  },
  {
   "cell_type": "code",
   "execution_count": null,
   "metadata": {},
   "outputs": [],
   "source": [
    "#ploting flow data \n",
    "plt.plot(flowSeries)  \n",
    "fig = plt.gcf()\n",
    "fig.set_size_inches(20, 5)\n",
    "plt.show()"
   ]
  },
  {
   "cell_type": "code",
   "execution_count": null,
   "metadata": {},
   "outputs": [],
   "source": [
    "#plotting speed data\n",
    "plt.plot(speedSeries)  \n",
    "fig = plt.gcf()\n",
    "fig.set_size_inches(20, 5)\n",
    "plt.show()"
   ]
  },
  {
   "cell_type": "code",
   "execution_count": null,
   "metadata": {},
   "outputs": [],
   "source": [
    "#getting descriptive statistical values for the flow data\n",
    "flowMean = flowSeries.mean()[0] #mean\n",
    "flowSDeviation = flowSeries.std()[0] #standard deviation\n",
    "#dividing dataset into quantiles\n",
    "flowInterval1 = flowSeries.quantile(0.25)[0]\n",
    "flowInterval2 = flowSeries.quantile(0.50)[0]\n",
    "flowInterval3 = flowSeries.quantile(0.75)[0]\n",
    "flowInterval4 = flowSeries.quantile(1)[0]"
   ]
  },
  {
   "cell_type": "code",
   "execution_count": null,
   "metadata": {},
   "outputs": [],
   "source": [
    "#printing descriptive statistical vlaues of the flow data\n",
    "print(\"mean: \" + str(flowMean))\n",
    "print(\"sDeviation: \" + str(flowSDeviation))\n",
    "print(\"interval 1: \" + str(flowInterval1))\n",
    "print(\"interval 2: \" + str(flowInterval2))\n",
    "print(\"interval 3: \" + str(flowInterval3))\n",
    "print(\"interval 4: \" + str(flowInterval4))"
   ]
  },
  {
   "cell_type": "code",
   "execution_count": null,
   "metadata": {},
   "outputs": [],
   "source": [
    "#defining mean variables for each of the quantile intervals\n",
    "flowMean1 = 0\n",
    "flowMean2 = 0\n",
    "flowMean3 = 0\n",
    "\n",
    "#as the sets may be unequally sized we define element count variables as well\n",
    "n1 = 0\n",
    "n2 = 0\n",
    "n3 = 0\n",
    "\n",
    "#getting the means of the three different intervals\n",
    "    \n",
    "    #note that to do the means the zero values aren't considered \n",
    "    \n",
    "for index, row in flowSeries.iterrows():\n",
    "    \n",
    "    if (row[fTag] > flowInterval1 and row[fTag] <= flowInterval2):\n",
    "        flowMean1 = flowMean1 + row[fTag]\n",
    "        n1 = n1 + 1\n",
    "    elif (row[fTag] > flowInterval2 and row[fTag] <= flowInterval3):\n",
    "        flowMean2 = flowMean2 + row[fTag]\n",
    "        n2 = n2 + 1\n",
    "    elif (row[fTag] > flowInterval3 and row[fTag] <= flowInterval4):\n",
    "        flowMean3 = flowMean3 + row[fTag]\n",
    "        n3 = n3 + 1\n",
    "\n",
    "if (n1 != 0): \n",
    "    flowMean1 = flowMean1 / n1\n",
    "if (n2 != 0): \n",
    "    flowMean2 = flowMean2 / n2\n",
    "if (n3 != 0): \n",
    "    flowMean3 = flowMean3 / n3"
   ]
  },
  {
   "cell_type": "code",
   "execution_count": null,
   "metadata": {},
   "outputs": [],
   "source": [
    "#print results of the quantile division\n",
    "print(\"flow mean for quantile 1: \" + str(flowMean1) + \", n: \" + str(n1))\n",
    "print(\"flow mean for quantile 2: \" + str(flowMean2) + \", n: \" + str(n2))\n",
    "print(\"flow mean for quantile 3: \" + str(flowMean3) + \", n: \" + str(n3))"
   ]
  },
  {
   "cell_type": "code",
   "execution_count": null,
   "metadata": {},
   "outputs": [],
   "source": [
    "#cleaning flow data\n",
    "for index, row in flowSeries.iterrows():\n",
    "    #first check if the zero value must be changed\n",
    "        #the zero values which have the previous neighbor value above the first quantile will be changed\n",
    "    if (row[fTag] == 0):\n",
    "        if (index > 0): #preventing from index out of bounds error\n",
    "            if (flowSeries.iloc[[index-1][0]][fTag] > flowInterval1): #checking if the value is extremly low\n",
    "                if (flowSeries.iloc[[index-1][0]][fTag] > flowInterval3): #checking the quantile which the previous neighbor belongs\n",
    "                    flowSeries.set_value(index, fTag, flowMean3)\n",
    "                elif (flowSeries.iloc[[index-1][0]][fTag] > flowInterval2):\n",
    "                    flowSeries.set_value(index, fTag, flowMean2)\n",
    "                else:\n",
    "                    flowSeries.set_value(index, fTag, flowMean1)"
   ]
  },
  {
   "cell_type": "code",
   "execution_count": null,
   "metadata": {},
   "outputs": [],
   "source": [
    "#display new descriptive statistical values\n",
    "flowMean = flowSeries.mean()[0] #mean\n",
    "flowSDeviation = flowSeries.std()[0] #standard deviation\n",
    "print(\"flow mean: \" + str(flowMean))\n",
    "print(\"flow standard deviation: \" + str(flowSDeviation))"
   ]
  },
  {
   "cell_type": "code",
   "execution_count": null,
   "metadata": {},
   "outputs": [],
   "source": [
    "#ploting flow data \n",
    "plt.plot(flowSeries)  \n",
    "fig = plt.gcf()\n",
    "fig.set_size_inches(20, 5)\n",
    "plt.show()  "
   ]
  },
  {
   "cell_type": "code",
   "execution_count": null,
   "metadata": {},
   "outputs": [],
   "source": [
    "#time series for flow data with cleaning\n",
    "flow_result_add = seasonal_decompose(flowSeries[fTag], model='additive', freq = timeSeriesFreq, extrapolate_trend='freq')"
   ]
  },
  {
   "cell_type": "code",
   "execution_count": null,
   "metadata": {
    "scrolled": false
   },
   "outputs": [],
   "source": [
    "#ploting the time series for flow data \n",
    "plt.rcParams.update({'figure.figsize': (10,10)})\n",
    "flow_result_add.plot().suptitle('Additive Decompose', fontsize=12)\n",
    "plt.show()"
   ]
  },
  {
   "cell_type": "code",
   "execution_count": null,
   "metadata": {},
   "outputs": [],
   "source": [
    "#getting descriptive statistical values for the speed data\n",
    "speedMean = speedSeries.mean()[0] #mean\n",
    "speedSDeviation = speedSeries.std()[0] #standard deviation"
   ]
  },
  {
   "cell_type": "code",
   "execution_count": null,
   "metadata": {},
   "outputs": [],
   "source": [
    "#speed data cleaning\n",
    "\n",
    "for index, row in speedSeries.iterrows():\n",
    "    if (row[sTag] <= 0):\n",
    "        speedSeries.set_value(index, sTag, speedMean)"
   ]
  },
  {
   "cell_type": "code",
   "execution_count": null,
   "metadata": {},
   "outputs": [],
   "source": [
    "#getting NEW descriptive statistical values for the speed data\n",
    "speedMean = speedSeries.mean()[0] #mean\n",
    "speedSDeviation = speedSeries.std()[0] #standard deviation\n",
    "#printing descriptive statistical vlaues of the speed data\n",
    "print(\"mean: \" + str(speedMean))\n",
    "print(\"sDeviation: \" + str(speedSDeviation))"
   ]
  },
  {
   "cell_type": "code",
   "execution_count": null,
   "metadata": {},
   "outputs": [],
   "source": [
    "#ploting speed data \n",
    "plt.plot(speedSeries)  \n",
    "fig = plt.gcf()\n",
    "fig.set_size_inches(20, 5)\n",
    "plt.show()  "
   ]
  },
  {
   "cell_type": "code",
   "execution_count": null,
   "metadata": {},
   "outputs": [],
   "source": [
    "#time series for speed data \n",
    "speed_result_add = seasonal_decompose(speedSeries[sTag], model='additive', freq = timeSeriesFreq, extrapolate_trend='freq')"
   ]
  },
  {
   "cell_type": "code",
   "execution_count": null,
   "metadata": {},
   "outputs": [],
   "source": [
    "#ploting the time series for speed data \n",
    "plt.rcParams.update({'figure.figsize': (10,10)})\n",
    "speed_result_add.plot().suptitle('Additive Decompose', fontsize=12)\n",
    "plt.show()"
   ]
  },
  {
   "cell_type": "code",
   "execution_count": null,
   "metadata": {},
   "outputs": [],
   "source": [
    "#flow boxplot\n",
    "plt.boxplot(flowSeries[fTag])"
   ]
  },
  {
   "cell_type": "code",
   "execution_count": null,
   "metadata": {},
   "outputs": [],
   "source": [
    "#speed boxplot\n",
    "plt.boxplot(speedSeries[sTag])"
   ]
  },
  {
   "cell_type": "code",
   "execution_count": null,
   "metadata": {},
   "outputs": [],
   "source": [
    "densitySeries = pd.DataFrame(columns = [kTag])\n",
    "\n",
    "for index, row in flowSeries.iterrows():\n",
    "    density = row[fTag] / speedSeries.iloc[[index][0]][sTag]\n",
    "    auxDF = pd.DataFrame([[density]], columns = [kTag])\n",
    "    densitySeries = densitySeries.append(auxDF, ignore_index = True)\n"
   ]
  },
  {
   "cell_type": "code",
   "execution_count": null,
   "metadata": {},
   "outputs": [],
   "source": [
    "densitySeries"
   ]
  },
  {
   "cell_type": "code",
   "execution_count": null,
   "metadata": {},
   "outputs": [],
   "source": [
    "#ploting density data \n",
    "plt.plot(densitySeries)  \n",
    "fig = plt.gcf()\n",
    "fig.set_size_inches(20, 5)\n",
    "plt.show()  "
   ]
  },
  {
   "cell_type": "code",
   "execution_count": null,
   "metadata": {},
   "outputs": [],
   "source": [
    "density_result_add = seasonal_decompose(densitySeries[kTag], model='additive', freq = timeSeriesFreq, extrapolate_trend='freq')"
   ]
  },
  {
   "cell_type": "code",
   "execution_count": null,
   "metadata": {},
   "outputs": [],
   "source": [
    "#ploting the time series for density \n",
    "plt.rcParams.update({'figure.figsize': (10,10)})\n",
    "density_result_add.plot().suptitle('Additive Decompose', fontsize=12)\n",
    "plt.show()"
   ]
  },
  {
   "cell_type": "code",
   "execution_count": null,
   "metadata": {},
   "outputs": [],
   "source": [
    "#density boxplot\n",
    "plt.boxplot(densitySeries[kTag])"
   ]
  },
  {
   "cell_type": "code",
   "execution_count": null,
   "metadata": {},
   "outputs": [],
   "source": []
  }
 ],
 "metadata": {
  "kernelspec": {
   "display_name": "Python 3",
   "language": "python",
   "name": "python3"
  },
  "language_info": {
   "codemirror_mode": {
    "name": "ipython",
    "version": 3
   },
   "file_extension": ".py",
   "mimetype": "text/x-python",
   "name": "python",
   "nbconvert_exporter": "python",
   "pygments_lexer": "ipython3",
   "version": "3.7.4"
  }
 },
 "nbformat": 4,
 "nbformat_minor": 2
}
