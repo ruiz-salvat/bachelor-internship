{
 "cells": [
  {
   "cell_type": "code",
   "execution_count": 1,
   "metadata": {},
   "outputs": [],
   "source": [
    "from modules.Simulation import Simulation"
   ]
  },
  {
   "cell_type": "code",
   "execution_count": 2,
   "metadata": {},
   "outputs": [],
   "source": [
    "# values for the simulation\n",
    "from_id = 251\n",
    "to_id = 641\n",
    "p = 0.65\n",
    "count_limit = 5\n",
    "strTime = \"12:30:00\""
   ]
  },
  {
   "cell_type": "code",
   "execution_count": 3,
   "metadata": {},
   "outputs": [],
   "source": [
    "# initialize object\n",
    "simulation = Simulation(from_id, to_id, p, count_limit, strTime)"
   ]
  },
  {
   "cell_type": "code",
   "execution_count": 4,
   "metadata": {},
   "outputs": [
    {
     "name": "stdout",
     "output_type": "stream",
     "text": [
      "object initialized: 631, 1\n",
      "object initialized: 188, 1\n",
      "object initialized: 646, 1\n",
      "object initialized: 461, 1\n",
      "object initialized: 197, -1\n",
      "object initialized: 256, -1\n",
      "object initialized: 782, -1\n",
      "object initialized: 639, -1\n",
      "object initialized: 251, 0\n",
      "data loaded\n",
      "number of active threads: 9 (0s)\n",
      "number of active threads: 9 (5s)\n"
     ]
    },
    {
     "name": "stderr",
     "output_type": "stream",
     "text": [
      "/home/oem/Templates/InternshipMMGuide/Analysis/modules/Cleaner.py:63: FutureWarning: set_value is deprecated and will be removed in a future release. Please use .at[] or .iat[] accessors instead\n",
      "  flowSeries.set_value(index, fTag, flowMean1)\n",
      "/home/oem/Templates/InternshipMMGuide/Analysis/modules/Cleaner.py:59: FutureWarning: set_value is deprecated and will be removed in a future release. Please use .at[] or .iat[] accessors instead\n",
      "  flowSeries.set_value(index, fTag, flowMean3)\n",
      "/home/oem/Templates/InternshipMMGuide/Analysis/modules/Cleaner.py:61: FutureWarning: set_value is deprecated and will be removed in a future release. Please use .at[] or .iat[] accessors instead\n",
      "  flowSeries.set_value(index, fTag, flowMean2)\n"
     ]
    },
    {
     "name": "stdout",
     "output_type": "stream",
     "text": [
      "number of active threads: 9 (10s)\n",
      "number of active threads: 9 (15s)\n"
     ]
    },
    {
     "name": "stderr",
     "output_type": "stream",
     "text": [
      "/home/oem/Templates/InternshipMMGuide/Analysis/modules/Cleaner.py:74: FutureWarning: set_value is deprecated and will be removed in a future release. Please use .at[] or .iat[] accessors instead\n",
      "  speedSeries.set_value(index, sTag, speedMean)\n"
     ]
    },
    {
     "name": "stdout",
     "output_type": "stream",
     "text": [
      "number of active threads: 9 (20s)\n",
      "number of active threads: 9 (25s)\n",
      "number of active threads: 9 (30s)\n",
      "number of active threads: 9 (35s)\n",
      "number of active threads: 9 (40s)\n",
      "number of active threads: 9 (45s)\n",
      "number of active threads: 9 (50s)\n",
      "number of active threads: 9 (55s)\n",
      "number of active threads: 9 (60s)\n",
      "number of active threads: 9 (65s)\n",
      "number of active threads: 9 (70s)\n",
      "number of active threads: 9 (75s)\n",
      "number of active threads: 9 (80s)\n",
      "number of active threads: 9 (85s)\n",
      "number of active threads: 9 (90s)\n",
      "number of active threads: 9 (95s)\n",
      "number of active threads: 9 (100s)\n",
      "number of active threads: 9 (105s)\n",
      "number of active threads: 9 (110s)\n",
      "number of active threads: 9 (115s)\n",
      "number of active threads: 9 (120s)\n",
      "number of active threads: 9 (125s)\n",
      "number of active threads: 9 (130s)\n",
      "number of active threads: 9 (135s)\n",
      "number of active threads: 9 (140s)\n",
      "number of active threads: 9 (145s)\n",
      "number of active threads: 9 (150s)\n",
      "number of active threads: 9 (155s)\n",
      "number of active threads: 9 (160s)\n",
      "number of active threads: 9 (165s)\n",
      "number of active threads: 9 (170s)\n",
      "number of active threads: 9 (175s)\n",
      "number of active threads: 9 (180s)\n",
      "number of active threads: 9 (185s)\n",
      "number of active threads: 9 (190s)\n",
      "number of active threads: 9 (195s)\n",
      "number of active threads: 9 (200s)\n",
      "number of active threads: 9 (205s)\n",
      "number of active threads: 9 (210s)\n",
      "number of active threads: 9 (215s)\n",
      "number of active threads: 9 (220s)\n",
      "number of active threads: 9 (225s)\n",
      "number of active threads: 9 (230s)\n",
      "number of active threads: 9 (235s)\n",
      "number of active threads: 9 (240s)\n",
      "number of active threads: 9 (245s)\n",
      "number of active threads: 9 (250s)\n",
      "number of active threads: 9 (255s)\n",
      "number of active threads: 9 (260s)\n",
      "number of active threads: 9 (265s)\n",
      "number of active threads: 9 (270s)\n",
      "number of active threads: 9 (275s)\n",
      "number of active threads: 9 (280s)\n",
      "number of active threads: 9 (285s)\n",
      "number of active threads: 9 (290s)\n",
      "number of active threads: 9 (295s)\n",
      "number of active threads: 9 (300s)\n",
      "number of active threads: 9 (305s)\n",
      "number of active threads: 9 (310s)\n",
      "number of active threads: 9 (315s)\n",
      "number of active threads: 9 (320s)\n",
      "number of active threads: 9 (325s)\n",
      "number of active threads: 9 (330s)\n",
      "number of active threads: 9 (335s)\n",
      "number of active threads: 9 (340s)\n",
      "number of active threads: 9 (345s)\n",
      "number of active threads: 9 (350s)\n",
      "number of active threads: 9 (355s)\n",
      "number of active threads: 9 (360s)\n",
      "number of active threads: 9 (365s)\n",
      "number of active threads: 9 (370s)\n",
      "number of active threads: 9 (375s)\n",
      "number of active threads: 9 (380s)\n",
      "number of active threads: 9 (385s)\n",
      "number of active threads: 9 (390s)\n",
      "number of active threads: 9 (395s)\n",
      "number of active threads: 9 (400s)\n",
      "number of active threads: 9 (405s)\n",
      "number of active threads: 9 (410s)\n",
      "number of active threads: 9 (415s)\n",
      "number of active threads: 9 (420s)\n",
      "number of active threads: 9 (425s)\n",
      "number of active threads: 9 (430s)\n",
      "number of active threads: 9 (435s)\n",
      "number of active threads: 9 (440s)\n",
      "number of active threads: 9 (445s)\n",
      "number of active threads: 9 (450s)\n",
      "number of active threads: 9 (455s)\n",
      "number of active threads: 9 (460s)\n",
      "number of active threads: 9 (465s)\n",
      "number of active threads: 9 (470s)\n",
      "number of active threads: 9 (475s)\n",
      "number of active threads: 9 (480s)\n",
      "number of active threads: 9 (485s)\n",
      "number of active threads: 9 (490s)\n",
      "number of active threads: 9 (495s)\n",
      "number of active threads: 9 (500s)\n",
      "number of active threads: 9 (505s)\n",
      "number of active threads: 9 (510s)\n",
      "number of active threads: 9 (515s)\n",
      "number of active threads: 9 (520s)\n",
      "number of active threads: 9 (525s)\n",
      "number of active threads: 9 (530s)\n",
      "number of active threads: 9 (535s)\n",
      "number of active threads: 9 (540s)\n",
      "number of active threads: 9 (545s)\n",
      "number of active threads: 9 (550s)\n",
      "number of active threads: 9 (555s)\n",
      "number of active threads: 9 (560s)\n",
      "number of active threads: 9 (565s)\n",
      "number of active threads: 9 (570s)\n",
      "number of active threads: 9 (575s)\n",
      "number of active threads: 9 (580s)\n",
      "number of active threads: 9 (585s)\n",
      "number of active threads: 9 (590s)\n",
      "number of active threads: 9 (595s)\n",
      "number of active threads: 9 (600s)\n",
      "number of active threads: 9 (605s)\n",
      "number of active threads: 9 (610s)\n",
      "number of active threads: 9 (615s)\n",
      "number of active threads: 9 (620s)\n",
      "number of active threads: 9 (625s)\n",
      "number of active threads: 9 (630s)\n",
      "number of active threads: 9 (635s)\n",
      "number of active threads: 9 (640s)\n",
      "modeling basis set to 639\n",
      "modeling basis set to 251\n",
      "modeling basis set to 197\n",
      "modeling basis set to 461\n",
      "modeling basis set to 188\n",
      "modeling basis set to 256\n",
      "modeling basis set to 646\n",
      "modeling basis set to 631\n",
      "modeling basis set to 782\n",
      "number of active threads: 0 (645s)\n",
      "\n",
      "<initialization completed>\n",
      "\n"
     ]
    }
   ],
   "source": [
    "# run algorithm \n",
    "simulation.run_algorithm()"
   ]
  },
  {
   "cell_type": "code",
   "execution_count": 5,
   "metadata": {},
   "outputs": [
    {
     "data": {
      "text/plain": [
       "251 <0> <critical density: 61, optimal speed: 88.94444444444444, maximum flow: 5366.666666666667> :\n",
       "[461 <1> <critical density: 50, optimal speed: 79.86111111111111, maximum flow: 5560.0> :\n",
       "[646 <1> <critical density: 34.47562776957164, optimal speed: 96.71428571428571, maximum flow: 3334.285714285714> :\n",
       "[188 <1> <critical density: 32, optimal speed: 95.94444444444444, maximum flow: 3246.6666666666665> :\n",
       "[631 <1> <critical density: 37, optimal speed: 89.125, maximum flow: 3367.5> :\n",
       "[]]]], 639 <-1> <critical density: 47, optimal speed: 95.44444444444444, maximum flow: 4400.0> :\n",
       "[782 <-1> <critical density: 47.465437788018434, optimal speed: 93.0, maximum flow: 4414.285714285715> :\n",
       "[256 <-1> <critical density: 61.82509505703422, optimal speed: 87.66666666666667, maximum flow: 5420.0> :\n",
       "[197 <-1> <critical density: 58, optimal speed: 88.21428571428571, maximum flow: 5477.142857142857> :\n",
       "[]]]]]"
      ]
     },
     "execution_count": 5,
     "metadata": {},
     "output_type": "execute_result"
    }
   ],
   "source": [
    "# print graph initialization\n",
    "simulation.root"
   ]
  },
  {
   "cell_type": "code",
   "execution_count": 6,
   "metadata": {},
   "outputs": [
    {
     "name": "stdout",
     "output_type": "stream",
     "text": [
      "251:\n",
      "{maximum flow: 5366.666666666667, expected flow: 2047.4069798776059, estimated flow: 1330.8145369204437}\n",
      "{critical density: 61, expected density: 20.677418096324356, estimated density: 28.56988764167199}\n",
      "{optimal speed: 88.94444444444444, estimated speed: 46.58102102506416}\n",
      "--------------------\n",
      "461:\n",
      "{maximum flow: 5560.0, expected flow: 2079.368523128903, estimated flow: 1330.8145369204437}\n",
      "{critical density: 50, expected density: 20.828298518785765, estimated density: 16.664112462308164}\n",
      "{optimal speed: 79.86111111111111, estimated speed: 79.86111111111111}\n",
      "--------------------\n",
      "646:\n",
      "{maximum flow: 3334.285714285714, expected flow: 956.313938652739, estimated flow: 1330.8145369204437}\n",
      "{critical density: 34.47562776957164, expected density: 9.414404888637163, estimated density: 13.760268476282285}\n",
      "{optimal speed: 96.71428571428571, estimated speed: 96.71428571428571}\n",
      "--------------------\n",
      "188:\n",
      "{maximum flow: 3246.6666666666665, expected flow: 948.3030443118583, estimated flow: 1330.8145369204437}\n",
      "{critical density: 32, expected density: 9.541726453021397, estimated density: 13.870678439240294}\n",
      "{optimal speed: 95.94444444444444, estimated speed: 95.94444444444444}\n",
      "--------------------\n",
      "631:\n",
      "{maximum flow: 3367.5, expected flow: 1417.6179302323437, estimated flow: 1330.8145369204437}\n",
      "{critical density: 37, expected density: 15.224962552246485, estimated density: 14.932000414254627}\n",
      "{optimal speed: 89.125, estimated speed: 89.125}\n",
      "--------------------\n",
      "639:\n",
      "{maximum flow: 4400.0, expected flow: 1676.8759125748977, estimated flow: 1330.8145369204437}\n",
      "{critical density: 47, expected density: 16.385706654945036, estimated density: 20.19718819513923}\n",
      "{optimal speed: 95.44444444444444, estimated speed: 65.89107969201005}\n",
      "--------------------\n",
      "782:\n",
      "{maximum flow: 4414.285714285715, expected flow: 1691.732332610692, estimated flow: 1330.8145369204437}\n",
      "{critical density: 47.465437788018434, expected density: 16.744452910297746, estimated density: 20.719561410052844}\n",
      "{optimal speed: 93.0, estimated speed: 64.22986040017001}\n",
      "--------------------\n",
      "256:\n",
      "{maximum flow: 5420.0, expected flow: 2243.0089048567465, estimated flow: 1330.8145369204437}\n",
      "{critical density: 61.82509505703422, expected density: 23.760447214606035, estimated density: 33.8072546281267}\n",
      "{optimal speed: 87.66666666666667, estimated speed: 39.36476213638604}\n",
      "--------------------\n",
      "197:\n",
      "{maximum flow: 5477.142857142857, expected flow: 2609.858829233655, estimated flow: 1330.8145369204437}\n",
      "{critical density: 58, expected density: 27.046894522307426, estimated density: 41.13414624181265}\n",
      "{optimal speed: 88.21428571428571, estimated speed: 32.353036552577755}\n",
      "--------------------\n"
     ]
    }
   ],
   "source": [
    "# print simulation result\n",
    "simulation.print_result(simulation.root)"
   ]
  },
  {
   "cell_type": "code",
   "execution_count": null,
   "metadata": {},
   "outputs": [],
   "source": []
  }
 ],
 "metadata": {
  "kernelspec": {
   "display_name": "Python 3",
   "language": "python",
   "name": "python3"
  },
  "language_info": {
   "codemirror_mode": {
    "name": "ipython",
    "version": 3
   },
   "file_extension": ".py",
   "mimetype": "text/x-python",
   "name": "python",
   "nbconvert_exporter": "python",
   "pygments_lexer": "ipython3",
   "version": "3.7.4"
  }
 },
 "nbformat": 4,
 "nbformat_minor": 2
}
